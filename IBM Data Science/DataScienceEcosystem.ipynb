{
 "cells": [
  {
   "cell_type": "markdown",
   "id": "c1eda120",
   "metadata": {},
   "source": [
    "# Title of the Notebook"
   ]
  },
  {
   "cell_type": "markdown",
   "id": "e04af8ff",
   "metadata": {},
   "source": [
    "## Introduction\n",
    "This notebook covers various exercises to demonstrate basic data science tasks using markdown and code cells in Jupyter Notebook.\n"
   ]
  },
  {
   "cell_type": "markdown",
   "id": "9d7fbfd3",
   "metadata": {},
   "source": [
    "## Data Science Languages\n",
    "- Python\n",
    "- R\n",
    "- SQL\n",
    "- Julia\n",
    "- Scala\n"
   ]
  },
  {
   "cell_type": "markdown",
   "id": "5adf927d",
   "metadata": {},
   "source": [
    "## Data Science Libraries\n",
    "- Pandas\n",
    "- NumPy\n",
    "- Matplotlib\n",
    "- Scikit-learn\n",
    "- TensorFlow\n",
    "- Keras\n",
    "- ggplot2\n",
    "- dplyr\n"
   ]
  },
  {
   "cell_type": "markdown",
   "id": "18426e98",
   "metadata": {},
   "source": [
    "## Data Science Tools\n",
    "| Tool          | Description                                   |\n",
    "|---------------|-----------------------------------------------|\n",
    "| Jupyter       | Interactive computing environment             |\n",
    "| RStudio       | IDE for R                                     |\n",
    "| Apache Spark  | Cluster-computing framework                   |\n",
    "| Tableau       | Data visualization tool                       |\n",
    "| TensorFlow    | Machine learning library                      |\n"
   ]
  },
  {
   "cell_type": "markdown",
   "id": "3ee91896",
   "metadata": {},
   "source": [
    "## Arithmetic Expression Examples\n",
    "Below are some examples of basic arithmetic operations.\n"
   ]
  },
  {
   "cell_type": "code",
   "execution_count": 1,
   "id": "7b2827b7",
   "metadata": {},
   "outputs": [
    {
     "data": {
      "text/plain": [
       "(20, 11)"
      ]
     },
     "execution_count": 1,
     "metadata": {},
     "output_type": "execute_result"
    }
   ],
   "source": [
    "# Code to multiply and add numbers\n",
    "a = 5\n",
    "b = 4\n",
    "c = 2\n",
    "\n",
    "# Multiplication\n",
    "multiplication_result = a * b\n",
    "\n",
    "# Addition\n",
    "addition_result = a + b + c\n",
    "\n",
    "multiplication_result, addition_result\n"
   ]
  },
  {
   "cell_type": "code",
   "execution_count": 2,
   "id": "1a0d8ad6",
   "metadata": {},
   "outputs": [
    {
     "data": {
      "text/plain": [
       "2.0"
      ]
     },
     "execution_count": 2,
     "metadata": {},
     "output_type": "execute_result"
    }
   ],
   "source": [
    "# Code to convert minutes to hours\n",
    "minutes = 120\n",
    "hours = minutes / 60\n",
    "hours\n"
   ]
  },
  {
   "cell_type": "markdown",
   "id": "5feb6b29",
   "metadata": {},
   "source": [
    "## Objectives\n",
    "- Demonstrate markdown usage in Jupyter Notebook\n",
    "- List popular data science languages and libraries\n",
    "- Show examples of arithmetic operations\n",
    "- Convert time units from minutes to hours\n"
   ]
  },
  {
   "cell_type": "markdown",
   "id": "d2a6eaab",
   "metadata": {},
   "source": [
    "## Author\n",
    "jiasheng"
   ]
  },
  {
   "cell_type": "code",
   "execution_count": null,
   "id": "a7205597",
   "metadata": {},
   "outputs": [],
   "source": []
  }
 ],
 "metadata": {
  "kernelspec": {
   "display_name": "Python 3 (ipykernel)",
   "language": "python",
   "name": "python3"
  },
  "language_info": {
   "codemirror_mode": {
    "name": "ipython",
    "version": 3
   },
   "file_extension": ".py",
   "mimetype": "text/x-python",
   "name": "python",
   "nbconvert_exporter": "python",
   "pygments_lexer": "ipython3",
   "version": "3.11.5"
  }
 },
 "nbformat": 4,
 "nbformat_minor": 5
}
